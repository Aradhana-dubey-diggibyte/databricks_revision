{
 "cells": [
  {
   "cell_type": "code",
   "execution_count": 0,
   "metadata": {
    "application/vnd.databricks.v1+cell": {
     "cellMetadata": {
      "byteLimit": 2048000,
      "rowLimit": 10000
     },
     "inputWidgets": {},
     "nuid": "53abf922-e0b1-4eaf-b91b-b17ec931e126",
     "showTitle": false,
     "tableResultSettingsMap": {},
     "title": ""
    }
   },
   "outputs": [],
   "source": [
    "data = [\n",
    "    {\"name\": \"Alice\", \"id\": 1, \"age\": 23, \"score\": 88, \"place\": \"New York\"},\n",
    "    {\"name\": \"Bob\", \"id\": 2, \"age\": 27, \"score\": 92, \"place\": \"Los Angeles\"},\n",
    "    {\"name\": \"Charlie\", \"id\": 3, \"age\": 22, \"score\": 85, \"place\": \"Chicago\"},\n",
    "    {\"name\": \"David\", \"id\": 4, \"age\": 25, \"score\": 90, \"place\": \"Houston\"},\n",
    "    {\"name\": \"Eva\", \"id\": 5, \"age\": 24, \"score\": 87, \"place\": \"Phoenix\"},\n",
    "    {\"name\": \"Frank\", \"id\": 6, \"age\": 28, \"score\": 93, \"place\": \"Philadelphia\"},\n",
    "    {\"name\": \"Grace\", \"id\": 7, \"age\": 21, \"score\": 84, \"place\": \"San Antonio\"},\n",
    "    {\"name\": \"Helen\", \"id\": 8, \"age\": 26, \"score\": 89, \"place\": \"San Diego\"},\n",
    "    {\"name\": \"Ian\", \"id\": 9, \"age\": 23, \"score\": 86, \"place\": \"Dallas\"},\n",
    "    {\"name\": \"Jane\", \"id\": 10, \"age\": 27, \"score\": 91, \"place\": \"San Jose\"},\n",
    "    {\"name\": \"Kyle\", \"id\": 11, \"age\": 22, \"score\": 83, \"place\": \"Austin\"},\n",
    "    {\"name\": \"Laura\", \"id\": 12, \"age\": 25, \"score\": 88, \"place\": \"Jacksonville\"},\n",
    "    {\"name\": \"Mike\", \"id\": 13, \"age\": 24, \"score\": 90, \"place\": \"Fort Worth\"},\n",
    "    {\"name\": \"Nina\", \"id\": 14, \"age\": 28, \"score\": 92, \"place\": \"Columbus\"},\n",
    "    {\"name\": \"Oscar\", \"id\": 15, \"age\": 21, \"score\": 85, \"place\": \"Charlotte\"}\n",
    "]\n",
    "\n",
    "df = spark.createDataFrame(data)\n",
    "display(df)"
   ]
  },
  {
   "cell_type": "code",
   "execution_count": 0,
   "metadata": {
    "application/vnd.databricks.v1+cell": {
     "cellMetadata": {
      "byteLimit": 2048000,
      "rowLimit": 10000
     },
     "inputWidgets": {},
     "nuid": "bd920055-f5f6-48ee-9f73-497dac65d65f",
     "showTitle": false,
     "tableResultSettingsMap": {},
     "title": ""
    }
   },
   "outputs": [],
   "source": [
    "from pyspark.sql.functions import when"
   ]
  },
  {
   "cell_type": "code",
   "execution_count": 0,
   "metadata": {
    "application/vnd.databricks.v1+cell": {
     "cellMetadata": {
      "byteLimit": 2048000,
      "rowLimit": 10000
     },
     "inputWidgets": {},
     "nuid": "e0b03a11-9518-49f8-9e09-97c9393dc05c",
     "showTitle": false,
     "tableResultSettingsMap": {
      "0": {
       "dataGridStateBlob": "{\"version\":1,\"tableState\":{\"columnPinning\":{\"left\":[\"#row_number#\"],\"right\":[]},\"columnSizing\":{},\"columnVisibility\":{}},\"settings\":{\"columns\":{}},\"syncTimestamp\":1758107291324}",
       "filterBlob": null,
       "queryPlanFiltersBlob": null,
       "tableResultIndex": 0
      }
     },
     "title": ""
    }
   },
   "outputs": [],
   "source": [
    "df1 = df.withColumn(\n",
    "    \"score_category\",\n",
    "    when(df[\"score\"] >= 90, \"High\")\n",
    "    .when(df[\"score\"] >= 85, \"Medium\")\n",
    "    .otherwise(\"Low\")\n",
    ")\n",
    "display(df1)"
   ]
  },
  {
   "cell_type": "code",
   "execution_count": 0,
   "metadata": {
    "application/vnd.databricks.v1+cell": {
     "cellMetadata": {
      "byteLimit": 2048000,
      "rowLimit": 10000
     },
     "inputWidgets": {},
     "nuid": "3caf93c1-4828-4bed-8b7c-e436e09e1e66",
     "showTitle": false,
     "tableResultSettingsMap": {},
     "title": ""
    }
   },
   "outputs": [],
   "source": [
    "df2=df.withColumn(\n",
    "    \"age_category\",\n",
    "    when(df[\"age\"] >=28, \"adult\")\n",
    "    .when(df[\"age\"]>=25, \"young adult\")\n",
    "    .otherwise(\"teenager\")\n",
    ")\n",
    "display(df2)"
   ]
  },
  {
   "cell_type": "code",
   "execution_count": 0,
   "metadata": {
    "application/vnd.databricks.v1+cell": {
     "cellMetadata": {
      "byteLimit": 2048000,
      "rowLimit": 10000
     },
     "inputWidgets": {},
     "nuid": "6c9fa387-0654-4430-bd96-f6fd68f52191",
     "showTitle": false,
     "tableResultSettingsMap": {},
     "title": ""
    }
   },
   "outputs": [],
   "source": [
    "max_score = df.agg({\"score\":\"max\"}).collect()[0][0]\n"
   ]
  },
  {
   "cell_type": "code",
   "execution_count": 0,
   "metadata": {
    "application/vnd.databricks.v1+cell": {
     "cellMetadata": {
      "byteLimit": 2048000,
      "rowLimit": 10000
     },
     "inputWidgets": {},
     "nuid": "7734a378-9c48-43c4-b0f1-8bac0dc37c22",
     "showTitle": false,
     "tableResultSettingsMap": {},
     "title": ""
    }
   },
   "outputs": [],
   "source": [
    "df3=df.withColumn(\n",
    "    \"score_highest\",\n",
    "    when(df[\"score\"] == max_score, \"yes\")\n",
    "    .otherwise(\"no\")\n",
    ")\n",
    "display(df3)"
   ]
  },
  {
   "cell_type": "code",
   "execution_count": 0,
   "metadata": {
    "application/vnd.databricks.v1+cell": {
     "cellMetadata": {
      "byteLimit": 2048000,
      "rowLimit": 10000
     },
     "inputWidgets": {},
     "nuid": "92944b64-4f7a-44db-87d1-75d8d81e2f57",
     "showTitle": false,
     "tableResultSettingsMap": {},
     "title": ""
    }
   },
   "outputs": [],
   "source": [
    "min_score = df.agg({\"score\":\"min\"}).collect()[0][0]"
   ]
  },
  {
   "cell_type": "code",
   "execution_count": 0,
   "metadata": {
    "application/vnd.databricks.v1+cell": {
     "cellMetadata": {
      "byteLimit": 2048000,
      "rowLimit": 10000
     },
     "inputWidgets": {},
     "nuid": "1bfc81ff-be0e-4e02-ab7a-2224c3d62e35",
     "showTitle": false,
     "tableResultSettingsMap": {},
     "title": ""
    }
   },
   "outputs": [],
   "source": [
    "df4=df.withColumn(\n",
    "    \"score_lowest\",\n",
    "    when(df[\"score\"] == min_score, \"yes\")\n",
    "    .otherwise(\"no\")\n",
    ")\n",
    "display(df4)"
   ]
  },
  {
   "cell_type": "code",
   "execution_count": 0,
   "metadata": {
    "application/vnd.databricks.v1+cell": {
     "cellMetadata": {
      "byteLimit": 2048000,
      "rowLimit": 10000
     },
     "inputWidgets": {},
     "nuid": "8e5681d3-8e9d-45c3-94b7-290093ed0c36",
     "showTitle": false,
     "tableResultSettingsMap": {},
     "title": ""
    }
   },
   "outputs": [],
   "source": [
    "df_missing = df.withColumn(\n",
    "    \"score_cleaned\",\n",
    "    when(df[\"score\"].isNull(), 0)  # Replace missing scores with 0\n",
    "    .otherwise(df[\"score\"])\n",
    ").withColumn(\n",
    "    \"place_cleaned\",\n",
    "    when(df[\"place\"].isNull(), \"Unknown\")  # Replace missing places with 'Unknown'\n",
    "    .otherwise(df[\"place\"])\n",
    ")\n",
    "display(df_missing)"
   ]
  },
  {
   "cell_type": "code",
   "execution_count": 0,
   "metadata": {
    "application/vnd.databricks.v1+cell": {
     "cellMetadata": {
      "byteLimit": 2048000,
      "rowLimit": 10000
     },
     "inputWidgets": {},
     "nuid": "e61715f8-5ab4-4350-9458-124c84138d46",
     "showTitle": false,
     "tableResultSettingsMap": {},
     "title": ""
    }
   },
   "outputs": [],
   "source": [
    "df5 = df.withColumn(\n",
    "    \"place_abbr\",\n",
    "    when(df[\"place\"] == \"New York\", \"NY\")\n",
    "    .when(df[\"place\"] == \"Los Angeles\", \"LA\")\n",
    "    .when(df[\"place\"] == \"Chicago\", \"CHI\")\n",
    "    .otherwise(df[\"place\"])\n",
    ")\n",
    "display(df5)"
   ]
  }
 ],
 "metadata": {
  "application/vnd.databricks.v1+notebook": {
   "computePreferences": null,
   "dashboards": [],
   "environmentMetadata": {
    "base_environment": "",
    "environment_version": "3"
   },
   "inputWidgetPreferences": null,
   "language": "python",
   "notebookMetadata": {
    "pythonIndentUnit": 4
   },
   "notebookName": "when&otherwise",
   "widgets": {}
  },
  "language_info": {
   "name": "python"
  }
 },
 "nbformat": 4,
 "nbformat_minor": 0
}
