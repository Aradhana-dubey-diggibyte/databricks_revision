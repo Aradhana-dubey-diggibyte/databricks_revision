{
 "cells": [
  {
   "cell_type": "code",
   "execution_count": 0,
   "metadata": {
    "application/vnd.databricks.v1+cell": {
     "cellMetadata": {
      "byteLimit": 2048000,
      "rowLimit": 10000
     },
     "inputWidgets": {},
     "nuid": "ee138ad0-4eca-4707-b4e2-7f9b9a9d8d54",
     "showTitle": false,
     "tableResultSettingsMap": {},
     "title": ""
    }
   },
   "outputs": [],
   "source": [
    "paths = [\n",
    "    \"/Volumes/workspace/new_data/data/address (1) 1.csv\",\n",
    "    \"/Volumes/workspace/new_data/data/drivers (1) 1.csv\",\n",
    "    \"/Volumes/workspace/new_data/data/orders (1) 1.csv\",\n",
    "    \"/Volumes/workspace/new_data/data/restaurants (2) 1.csv\"\n",
    "]\n",
    "\n",
    "for path in paths:\n",
    "    df = spark.read.format(\"csv\").option(\"header\", True).option(\"delimiter\", \",\").option(\"inferSchema\", True).load(path)\n",
    "    display(df.limit(5))"
   ]
  },
  {
   "cell_type": "code",
   "execution_count": 0,
   "metadata": {
    "application/vnd.databricks.v1+cell": {
     "cellMetadata": {
      "byteLimit": 2048000,
      "rowLimit": 10000
     },
     "inputWidgets": {},
     "nuid": "e65485ec-9a76-47b2-a093-92bbb8331362",
     "showTitle": false,
     "tableResultSettingsMap": {},
     "title": ""
    }
   },
   "outputs": [],
   "source": [
    "from pyspark.sql.types import StructType, StructField, StringType, IntegerType, DoubleType\n",
    "\n",
    "schemas = {\n",
    "    \"/Volumes/workspace/new_data/data/address (1) 1.csv\": StructType([\n",
    "        StructField(\"address_id\", IntegerType(), True),\n",
    "        StructField(\"street\", StringType(), True),\n",
    "        StructField(\"city\", StringType(), True),\n",
    "        StructField(\"state\", StringType(), True),\n",
    "        StructField(\"zip\", StringType(), True)\n",
    "    ]),\n",
    "    \"/Volumes/workspace/new_data/data/drivers (1) 1.csv\": StructType([\n",
    "        StructField(\"driver_id\", IntegerType(), True),\n",
    "        StructField(\"name\", StringType(), True),\n",
    "        StructField(\"license_number\", StringType(), True),\n",
    "        StructField(\"vehicle_type\", StringType(), True)\n",
    "    ]),\n",
    "    \"/Volumes/workspace/new_data/data/orders (1) 1.csv\": StructType([\n",
    "        StructField(\"order_id\", IntegerType(), True),\n",
    "        StructField(\"customer_id\", IntegerType(), True),\n",
    "        StructField(\"restaurant_id\", IntegerType(), True),\n",
    "        StructField(\"driver_id\", IntegerType(), True),\n",
    "        StructField(\"order_total\", DoubleType(), True),\n",
    "        StructField(\"order_date\", StringType(), True)\n",
    "    ]),\n",
    "    \"/Volumes/workspace/new_data/data/restaurants (2) 1.csv\": StructType([\n",
    "        StructField(\"restaurant_id\", IntegerType(), True),\n",
    "        StructField(\"name\", StringType(), True),\n",
    "        StructField(\"cuisine\", StringType(), True),\n",
    "        StructField(\"address_id\", IntegerType(), True)\n",
    "    ])\n",
    "}\n",
    "\n",
    "for path in paths:\n",
    "    schema = schemas.get(path)\n",
    "    df = spark.read.format(\"csv\").option(\"header\", True).option(\"delimiter\", \",\").schema(schema).load(path)\n",
    "    print(f\"Schema for {path}:\")\n",
    "    df.printSchema()"
   ]
  },
  {
   "cell_type": "code",
   "execution_count": 0,
   "metadata": {
    "application/vnd.databricks.v1+cell": {
     "cellMetadata": {
      "byteLimit": 2048000,
      "implicitDf": true,
      "rowLimit": 10000
     },
     "inputWidgets": {},
     "nuid": "a94db884-b190-4103-8a05-88fdac2f43cb",
     "showTitle": false,
     "tableResultSettingsMap": {},
     "title": ""
    }
   },
   "outputs": [],
   "source": [
    "%sql\n",
    "CREATE TABLE IF NOT EXISTS workspace.new_data.newbronze;"
   ]
  },
  {
   "cell_type": "code",
   "execution_count": 0,
   "metadata": {
    "application/vnd.databricks.v1+cell": {
     "cellMetadata": {
      "byteLimit": 2048000,
      "rowLimit": 10000
     },
     "inputWidgets": {},
     "nuid": "e807d028-2897-4ad8-b25d-da3a1a8af72b",
     "showTitle": false,
     "tableResultSettingsMap": {},
     "title": ""
    }
   },
   "outputs": [],
   "source": [
    "for path in paths:\n",
    "    schema = schemas.get(path)\n",
    "    df = spark.read.format(\"csv\").option(\"header\", True).schema(schema).load(path)\n",
    "    table_name = path.split(\"/\")[-1].replace(\" \", \"_\").replace(\"(\", \"\").replace(\")\", \"\").replace(\".csv\", \"\")\n",
    "    df.write.format(\"delta\").mode(\"append\").option(\"mergeSchema\", \"true\").saveAsTable(\"workspace.new_data.newbronze\")"
   ]
  },
  {
   "cell_type": "code",
   "execution_count": 0,
   "metadata": {
    "application/vnd.databricks.v1+cell": {
     "cellMetadata": {
      "byteLimit": 2048000,
      "implicitDf": true,
      "rowLimit": 10000
     },
     "inputWidgets": {},
     "nuid": "e7bba714-cf72-47e3-8c62-1a4007323467",
     "showTitle": false,
     "tableResultSettingsMap": {},
     "title": ""
    }
   },
   "outputs": [],
   "source": [
    "%sql\n",
    "select * from workspace.new_data.newbronze"
   ]
  }
 ],
 "metadata": {
  "application/vnd.databricks.v1+notebook": {
   "computePreferences": null,
   "dashboards": [],
   "environmentMetadata": {
    "base_environment": "",
    "environment_version": "3"
   },
   "inputWidgetPreferences": null,
   "language": "python",
   "notebookMetadata": {
    "mostRecentlyExecutedCommandWithImplicitDF": {
     "commandId": 5889930098295235,
     "dataframes": [
      "_sqldf"
     ]
    },
    "pythonIndentUnit": 4
   },
   "notebookName": "med_bronze",
   "widgets": {}
  },
  "language_info": {
   "name": "python"
  }
 },
 "nbformat": 4,
 "nbformat_minor": 0
}
