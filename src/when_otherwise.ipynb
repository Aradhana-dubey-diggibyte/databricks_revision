{
 "cells": [
  {
   "cell_type": "code",
   "execution_count": 0,
   "metadata": {
    "application/vnd.databricks.v1+cell": {
     "cellMetadata": {
      "byteLimit": 2048000,
      "rowLimit": 10000
     },
     "inputWidgets": {},
     "nuid": "a7b6d6f4-108c-4ac2-8176-d9a8059b6f44",
     "showTitle": false,
     "tableResultSettingsMap": {},
     "title": ""
    }
   },
   "outputs": [],
   "source": [
    "from pyspark.sql import Row\n",
    "\n",
    "data = [\n",
    "    Row(dept=\"Math\", salary=60000, gender=\"F\", teacher_name=\"Alice Smith\", experience=5, age=30),\n",
    "    Row(dept=\"Science\", salary=65000, gender=\"M\", teacher_name=\"Bob Johnson\", experience=7, age=35),\n",
    "    Row(dept=\"English\", salary=62000, gender=\"F\", teacher_name=\"Carol Lee\", experience=6, age=32),\n",
    "    Row(dept=\"History\", salary=61000, gender=\"M\", teacher_name=\"David Kim\", experience=4, age=29),\n",
    "    Row(dept=\"Math\", salary=70000, gender=\"F\", teacher_name=\"Eva Brown\", experience=10, age=40),\n",
    "    Row(dept=\"Science\", salary=68000, gender=\"M\", teacher_name=\"Frank White\", experience=8, age=38),\n",
    "    Row(dept=\"English\", salary=63000, gender=\"F\", teacher_name=\"Grace Green\", experience=5, age=31),\n",
    "    Row(dept=\"History\", salary=60000, gender=\"M\", teacher_name=\"Henry Black\", experience=3, age=27),\n",
    "    Row(dept=\"Math\", salary=72000, gender=\"F\", teacher_name=\"Ivy Young\", experience=12, age=42),\n",
    "    Row(dept=\"Science\", salary=66000, gender=\"M\", teacher_name=\"Jack Hall\", experience=6, age=33),\n",
    "    Row(dept=\"English\", salary=64000, gender=\"F\", teacher_name=\"Kathy King\", experience=7, age=36),\n",
    "    Row(dept=\"History\", salary=60500, gender=\"M\", teacher_name=\"Leo Scott\", experience=4, age=28),\n",
    "    Row(dept=\"Math\", salary=71000, gender=\"F\", teacher_name=\"Mona Adams\", experience=11, age=41),\n",
    "    Row(dept=\"Science\", salary=67000, gender=\"M\", teacher_name=\"Ned Clark\", experience=7, age=34),\n",
    "    Row(dept=\"English\", salary=65000, gender=\"F\", teacher_name=\"Olga Lewis\", experience=8, age=37),\n",
    "    Row(dept=\"History\", salary=61500, gender=\"M\", teacher_name=\"Paul Walker\", experience=5, age=30),\n",
    "    Row(dept=\"Math\", salary=73000, gender=\"F\", teacher_name=\"Quinn Allen\", experience=13, age=43),\n",
    "    Row(dept=\"Science\", salary=69000, gender=\"M\", teacher_name=\"Ray Evans\", experience=9, age=39),\n",
    "    Row(dept=\"English\", salary=66000, gender=\"F\", teacher_name=\"Sara Baker\", experience=9, age=38),\n",
    "    Row(dept=\"History\", salary=62000, gender=\"M\", teacher_name=\"Tom Harris\", experience=6, age=32)\n",
    "]\n",
    "\n",
    "df = spark.createDataFrame(data)\n",
    "display(df)"
   ]
  },
  {
   "cell_type": "code",
   "execution_count": 0,
   "metadata": {
    "application/vnd.databricks.v1+cell": {
     "cellMetadata": {
      "byteLimit": 2048000,
      "rowLimit": 10000
     },
     "inputWidgets": {},
     "nuid": "ec30de70-ef05-411c-8d5b-ab3cf1710e3f",
     "showTitle": false,
     "tableResultSettingsMap": {},
     "title": ""
    }
   },
   "outputs": [],
   "source": [
    "# 1. How can you create a new column 'salary_level' that assigns 'High' if salary > 70000, 'Medium' if salary between 65000 and 70000, and 'Low' otherwise?\n",
    "# 2. How can you add a column 'seniority' that is 'Senior' if experience >= 10, 'Mid' if experience between 5 and 9, and 'Junior' otherwise?\n",
    "# 3. How can you create a column 'age_group' that is 'Young' if age < 30, 'Adult' if age between 30 and 40, and 'Senior' otherwise?\n",
    "# 4. How can you add a column 'bonus_eligible' that is True if salary > 65000 and experience > 5, otherwise False?\n",
    "# 5. How can you create a column 'dept_code' that assigns 1 for 'Math', 2 for 'Science', 3 for 'English', and 4 for 'History'?"
   ]
  },
  {
   "cell_type": "code",
   "execution_count": 0,
   "metadata": {
    "application/vnd.databricks.v1+cell": {
     "cellMetadata": {
      "byteLimit": 2048000,
      "rowLimit": 10000
     },
     "inputWidgets": {},
     "nuid": "540c2600-f731-4d56-be5e-9f0cc5830b6b",
     "showTitle": false,
     "tableResultSettingsMap": {},
     "title": ""
    }
   },
   "outputs": [],
   "source": [
    "from pyspark.sql.functions import *"
   ]
  },
  {
   "cell_type": "code",
   "execution_count": 0,
   "metadata": {
    "application/vnd.databricks.v1+cell": {
     "cellMetadata": {
      "byteLimit": 2048000,
      "rowLimit": 10000
     },
     "inputWidgets": {},
     "nuid": "8395fa3e-21b2-4389-9991-893e1f27dc01",
     "showTitle": false,
     "tableResultSettingsMap": {},
     "title": ""
    }
   },
   "outputs": [],
   "source": [
    "df1 = df.withColumn(\n",
    "    \"salary_level\",\n",
    "    when(col(\"salary\") > 70000, \"High\")\n",
    "    .when((col(\"salary\") >= 65000) & (col(\"salary\") <= 70000), \"Medium\")\n",
    "    .otherwise(\"Low\")\n",
    ")\n",
    "display(df1)"
   ]
  },
  {
   "cell_type": "code",
   "execution_count": 0,
   "metadata": {
    "application/vnd.databricks.v1+cell": {
     "cellMetadata": {
      "byteLimit": 2048000,
      "rowLimit": 10000
     },
     "inputWidgets": {},
     "nuid": "1e1479a0-8402-4771-a3c2-c78e1480dde6",
     "showTitle": false,
     "tableResultSettingsMap": {},
     "title": ""
    }
   },
   "outputs": [],
   "source": [
    "df2 = df1.withColumn(\n",
    "    'seniority',\n",
    "    when(col(\"experience\") >= 10, 'Senior')\n",
    "    .when((col(\"experience\") >= 5) & (col(\"experience\") <= 9), 'Mid')\n",
    "    .otherwise('Junior')\n",
    ")\n",
    "display(df2)"
   ]
  },
  {
   "cell_type": "code",
   "execution_count": 0,
   "metadata": {
    "application/vnd.databricks.v1+cell": {
     "cellMetadata": {
      "byteLimit": 2048000,
      "rowLimit": 10000
     },
     "inputWidgets": {},
     "nuid": "3e249cce-b696-41a1-8b71-ab0915a8aaec",
     "showTitle": false,
     "tableResultSettingsMap": {},
     "title": ""
    }
   },
   "outputs": [],
   "source": [
    "df3=df2.withColumn(\n",
    "    'age_group',\n",
    "    when(col(\"age\")<30,\"adult\")\n",
    "    .when((col(\"age\")>30) & (col(\"age\")<40),\"senior\")\n",
    "    .otherwise(\"young\")\n",
    ")\n",
    "display(df3)"
   ]
  },
  {
   "cell_type": "code",
   "execution_count": 0,
   "metadata": {
    "application/vnd.databricks.v1+cell": {
     "cellMetadata": {
      "byteLimit": 2048000,
      "rowLimit": 10000
     },
     "inputWidgets": {},
     "nuid": "67875fc6-b9de-4ed8-a5b3-e2d45fdcf6fe",
     "showTitle": false,
     "tableResultSettingsMap": {},
     "title": ""
    }
   },
   "outputs": [],
   "source": [
    "df4=df3.withColumn(\n",
    "    'bonus_eligible',\n",
    "    when((col(\"salary\")>65000) & (col(\"experience\")>5),True)\n",
    "    .otherwise(False)\n",
    ")\n",
    "display(df4)\n"
   ]
  },
  {
   "cell_type": "code",
   "execution_count": 0,
   "metadata": {
    "application/vnd.databricks.v1+cell": {
     "cellMetadata": {
      "byteLimit": 2048000,
      "rowLimit": 10000
     },
     "inputWidgets": {},
     "nuid": "8ac9f4af-09aa-4163-9727-c945225ad7b1",
     "showTitle": false,
     "tableResultSettingsMap": {},
     "title": ""
    }
   },
   "outputs": [],
   "source": [
    "df5=df4.withColumn(\n",
    "    'dept_code',\n",
    "    when(col(\"dept\")==\"Math\",1)\n",
    "    .when(col(\"dept\")==\"Science\",2)\n",
    "    .when(col(\"dept\")==\"English\",3)\n",
    "    .when(col(\"dept\")==\"History\",4)\n",
    "    .otherwise(0)\n",
    ")\n",
    "display(df5)"
   ]
  }
 ],
 "metadata": {
  "application/vnd.databricks.v1+notebook": {
   "computePreferences": {
    "hardware": {
     "accelerator": null,
     "gpuPoolId": null,
     "memory": null
    }
   },
   "dashboards": [],
   "environmentMetadata": {
    "base_environment": "",
    "environment_version": "3"
   },
   "inputWidgetPreferences": null,
   "language": "python",
   "notebookMetadata": {
    "pythonIndentUnit": 4
   },
   "notebookName": "when_otherwise",
   "widgets": {}
  },
  "language_info": {
   "name": "python"
  }
 },
 "nbformat": 4,
 "nbformat_minor": 0
}
