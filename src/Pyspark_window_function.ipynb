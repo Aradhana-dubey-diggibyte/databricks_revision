{
 "cells": [
  {
   "cell_type": "code",
   "execution_count": 0,
   "metadata": {
    "application/vnd.databricks.v1+cell": {
     "cellMetadata": {
      "byteLimit": 2048000,
      "rowLimit": 10000
     },
     "inputWidgets": {},
     "nuid": "c4b13251-b371-40b6-a531-afd94ea7a4af",
     "showTitle": false,
     "tableResultSettingsMap": {},
     "title": ""
    }
   },
   "outputs": [],
   "source": [
    "from pyspark.sql import Row\n",
    "from pyspark.sql.window import Window"
   ]
  },
  {
   "cell_type": "code",
   "execution_count": 0,
   "metadata": {
    "application/vnd.databricks.v1+cell": {
     "cellMetadata": {
      "byteLimit": 2048000,
      "rowLimit": 10000
     },
     "inputWidgets": {},
     "nuid": "ec2717c3-68fc-4631-96c6-c05cf3ab5c05",
     "showTitle": false,
     "tableResultSettingsMap": {},
     "title": ""
    }
   },
   "outputs": [],
   "source": [
    "\n",
    "data = [\n",
    "    Row(id=1, name=\"Aarav\", gender=\"Male\", salary=50000, department=\"IT\", place=\"Mumbai\"),\n",
    "    Row(id=2, name=\"Anaya\", gender=\"Female\", salary=55000, department=\"HR\", place=\"Delhi\"),\n",
    "    Row(id=3, name=\"Vivaan\", gender=\"Male\", salary=60000, department=\"Finance\", place=\"Bangalore\"),\n",
    "    Row(id=4, name=\"Diya\", gender=\"Female\", salary=50000, department=\"IT\", place=\"Chennai\"),\n",
    "    Row(id=5, name=\"Aditya\", gender=\"Male\", salary=58000, department=\"Marketing\", place=\"Hyderabad\"),\n",
    "    Row(id=6, name=\"Ishita\", gender=\"Female\", salary=58000, department=\"Sales\", place=\"Pune\"),\n",
    "    Row(id=7, name=\"Arjun\", gender=\"Male\", salary=62000, department=\"IT\", place=\"Kolkata\"),\n",
    "    Row(id=8, name=\"Aditi\", gender=\"Female\", salary=54000, department=\"HR\", place=\"Ahmedabad\"),\n",
    "    Row(id=9, name=\"Kabir\", gender=\"Male\", salary=61000, department=\"Finance\", place=\"Surat\"),\n",
    "    Row(id=10, name=\"Meera\", gender=\"Female\", salary=56000, department=\"IT\", place=\"Jaipur\"),\n",
    "    Row(id=11, name=\"Rohan\", gender=\"Male\", salary=59000, department=\"Marketing\", place=\"Lucknow\"),\n",
    "    Row(id=12, name=\"Saanvi\", gender=\"Female\", salary=57000, department=\"Sales\", place=\"Kanpur\"),\n",
    "    Row(id=13, name=\"Aryan\", gender=\"Male\", salary=63000, department=\"IT\", place=\"Nagpur\"),\n",
    "    Row(id=14, name=\"Nisha\", gender=\"Female\", salary=55000, department=\"HR\", place=\"Indore\"),\n",
    "    Row(id=15, name=\"Krishna\", gender=\"Male\", salary=64000, department=\"Finance\", place=\"Bhopal\")\n",
    "]\n",
    "\n",
    "df = spark.createDataFrame(data)\n",
    "display(df)"
   ]
  },
  {
   "cell_type": "code",
   "execution_count": 0,
   "metadata": {
    "application/vnd.databricks.v1+cell": {
     "cellMetadata": {
      "byteLimit": 2048000,
      "rowLimit": 10000
     },
     "inputWidgets": {},
     "nuid": "40d246a3-0698-41d8-895b-e7a80f7af4ce",
     "showTitle": false,
     "tableResultSettingsMap": {},
     "title": ""
    }
   },
   "outputs": [],
   "source": [
    "w= Window.partitionBy(\"department\").orderBy(\"salary\")"
   ]
  },
  {
   "cell_type": "code",
   "execution_count": 0,
   "metadata": {
    "application/vnd.databricks.v1+cell": {
     "cellMetadata": {
      "byteLimit": 2048000,
      "rowLimit": 10000
     },
     "inputWidgets": {},
     "nuid": "7dcf90db-4b1c-4fc4-8bf0-a3cc4c27de5d",
     "showTitle": false,
     "tableResultSettingsMap": {
      "0": {
       "dataGridStateBlob": "{\"version\":1,\"tableState\":{\"columnPinning\":{\"left\":[\"#row_number#\"],\"right\":[]},\"columnSizing\":{},\"columnVisibility\":{}},\"settings\":{\"columns\":{}},\"syncTimestamp\":1757489225136}",
       "filterBlob": null,
       "queryPlanFiltersBlob": null,
       "tableResultIndex": 0
      }
     },
     "title": ""
    }
   },
   "outputs": [],
   "source": [
    "from pyspark.sql.functions import rank\n",
    "from pyspark.sql import DataFrame\n",
    "\n",
    "# rank-unique no with gaps.\n",
    "df = df.withColumn('rank', rank().over(w))\n",
    "display(df)"
   ]
  },
  {
   "cell_type": "code",
   "execution_count": 0,
   "metadata": {
    "application/vnd.databricks.v1+cell": {
     "cellMetadata": {
      "byteLimit": 2048000,
      "rowLimit": 10000
     },
     "inputWidgets": {},
     "nuid": "434d0fe0-e7c4-4b14-bc0f-b96523c78f04",
     "showTitle": false,
     "tableResultSettingsMap": {
      "0": {
       "dataGridStateBlob": "{\"version\":1,\"tableState\":{\"columnPinning\":{\"left\":[\"#row_number#\"],\"right\":[]},\"columnSizing\":{},\"columnVisibility\":{}},\"settings\":{\"columns\":{}},\"syncTimestamp\":1757489532080}",
       "filterBlob": null,
       "queryPlanFiltersBlob": null,
       "tableResultIndex": 0
      }
     },
     "title": ""
    }
   },
   "outputs": [],
   "source": [
    "from pyspark.sql.functions import dense_rank\n",
    "\n",
    "# dense_rank-unique no without gaps.\n",
    "df = df.withColumn('dense_rank', dense_rank().over(w))\n",
    "display(df)"
   ]
  },
  {
   "cell_type": "code",
   "execution_count": 0,
   "metadata": {
    "application/vnd.databricks.v1+cell": {
     "cellMetadata": {
      "byteLimit": 2048000,
      "rowLimit": 10000
     },
     "inputWidgets": {},
     "nuid": "a77de9ac-6ab1-4539-b454-f6243f10ae26",
     "showTitle": false,
     "tableResultSettingsMap": {},
     "title": ""
    }
   },
   "outputs": [],
   "source": [
    "from pyspark.sql.functions import row_number\n",
    "\n",
    "# row_number - sequential number starting at 1 within a window partition\n",
    "df = df.withColumn('row_number', row_number().over(w))\n",
    "display(df)"
   ]
  }
 ],
 "metadata": {
  "application/vnd.databricks.v1+notebook": {
   "computePreferences": {
    "hardware": {
     "accelerator": null,
     "gpuPoolId": null,
     "memory": null
    }
   },
   "dashboards": [],
   "environmentMetadata": {
    "base_environment": "",
    "environment_version": "3"
   },
   "inputWidgetPreferences": null,
   "language": "python",
   "notebookMetadata": {
    "pythonIndentUnit": 4
   },
   "notebookName": "Pyspark_window_function",
   "widgets": {}
  },
  "language_info": {
   "name": "python"
  }
 },
 "nbformat": 4,
 "nbformat_minor": 0
}
