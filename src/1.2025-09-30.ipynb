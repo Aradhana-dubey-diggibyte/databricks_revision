{
 "cells": [
  {
   "cell_type": "code",
   "execution_count": 0,
   "metadata": {
    "application/vnd.databricks.v1+cell": {
     "cellMetadata": {},
     "inputWidgets": {},
     "nuid": "744ba21b-b711-4e95-9cd6-ba60109c71ab",
     "showTitle": false,
     "tableResultSettingsMap": {},
     "title": ""
    }
   },
   "outputs": [],
   "source": [
    "df.spark.read.format(\"csv\").option(\"header\",True).option(\"inferSchema\",True).option('delimeter\",\",').load(\"/FileStore/tables/StudentData.csv\")#for csv"
   ]
  },
  {
   "cell_type": "code",
   "execution_count": 0,
   "metadata": {
    "application/vnd.databricks.v1+cell": {
     "cellMetadata": {},
     "inputWidgets": {},
     "nuid": "39c1cdfa-cb38-45a2-8c0d-ef36a57d297a",
     "showTitle": false,
     "tableResultSettingsMap": {},
     "title": ""
    }
   },
   "outputs": [],
   "source": [
    "df.spark.read.format(\"json\").option(\"multLine\",True).load(\"path\")"
   ]
  },
  {
   "cell_type": "code",
   "execution_count": 0,
   "metadata": {
    "application/vnd.databricks.v1+cell": {
     "cellMetadata": {},
     "inputWidgets": {},
     "nuid": "96ab7813-1ff8-41f7-8184-54edea70effb",
     "showTitle": false,
     "tableResultSettingsMap": {},
     "title": ""
    }
   },
   "outputs": [],
   "source": [
    "#custom schema in csv\n",
    "df.spark.read.format(\"csv\").option(\"header\",True).schema(\"schema\").load(\"path\")"
   ]
  },
  {
   "cell_type": "code",
   "execution_count": 0,
   "metadata": {
    "application/vnd.databricks.v1+cell": {
     "cellMetadata": {},
     "inputWidgets": {},
     "nuid": "7dc79949-d358-47ab-a3ae-630c89122a2b",
     "showTitle": false,
     "tableResultSettingsMap": {},
     "title": ""
    }
   },
   "outputs": [],
   "source": [
    "#window function\n",
    "w=Window.partitionBy(\"Salary\").desc()\n",
    "rank_df=df.withColumn(\"salary_rank\",dense_rank().over(w))\n",
    "display(rank_df) # it will give 3rd highest salary"
   ]
  },
  {
   "cell_type": "code",
   "execution_count": 0,
   "metadata": {
    "application/vnd.databricks.v1+cell": {
     "cellMetadata": {},
     "inputWidgets": {},
     "nuid": "4e9f53ad-387f-4a48-9d25-8428b61a70f6",
     "showTitle": false,
     "tableResultSettingsMap": {},
     "title": ""
    }
   },
   "outputs": [],
   "source": [
    "%sql\n",
    "select Distinct from table_name\n",
    "order by salary desc\n",
    "limit 1 offset 2;"
   ]
  },
  {
   "cell_type": "code",
   "execution_count": 0,
   "metadata": {
    "application/vnd.databricks.v1+cell": {
     "cellMetadata": {},
     "inputWidgets": {},
     "nuid": "055b1277-7b4b-4e47-947d-948d5e09aceb",
     "showTitle": false,
     "tableResultSettingsMap": {},
     "title": ""
    }
   },
   "outputs": [],
   "source": [
    "#when and otherwise\n",
    "df1=df.withColumn(\"gender\",\n",
    "                  when(col(\"gender\")==\"male\",lit(\"Male\"))\n",
    "                  .when(col(\"gender\")==\"female\",lit(\"Female\"))\n",
    "                  .otherwise(col(\"gender\")))"
   ]
  },
  {
   "cell_type": "code",
   "execution_count": 0,
   "metadata": {
    "application/vnd.databricks.v1+cell": {
     "cellMetadata": {},
     "inputWidgets": {},
     "nuid": "5409f922-4ff4-4b54-a024-fc441d4b7c09",
     "showTitle": false,
     "tableResultSettingsMap": {},
     "title": ""
    }
   },
   "outputs": [],
   "source": [
    "df2=df.withcolumn(\"salary\",\n",
    "                  when(col(\"salary\")=='100000',lit(\"1000\"))\n",
    "                  .when(col(\"salary\")=='200000',lit(\"2000\"))\n",
    "                  .otherwise(col(\"salary\"))"
   ]
  },
  {
   "cell_type": "code",
   "execution_count": 0,
   "metadata": {
    "application/vnd.databricks.v1+cell": {
     "cellMetadata": {},
     "inputWidgets": {},
     "nuid": "708d5980-dd18-4e86-bcf1-ea643d3b6fc2",
     "showTitle": false,
     "tableResultSettingsMap": {},
     "title": ""
    }
   },
   "outputs": [],
   "source": [
    "%sql\n",
    "select * from table_name\n",
    "case when salary > 100000 then 'high'\n",
    "when salary > 50000 then 'medium'\n",
    "else 'low' end"
   ]
  },
  {
   "cell_type": "code",
   "execution_count": 0,
   "metadata": {
    "application/vnd.databricks.v1+cell": {
     "cellMetadata": {},
     "inputWidgets": {},
     "nuid": "31d01a4b-9416-4080-8998-0fb7207f069c",
     "showTitle": false,
     "tableResultSettingsMap": {},
     "title": ""
    }
   },
   "outputs": [],
   "source": [
    "#overwriteschema\n",
    "df.write.format(\"delta\").mode(overwrite).option(\"overwriteSchema\",True).save(\"path\")"
   ]
  },
  {
   "cell_type": "code",
   "execution_count": 0,
   "metadata": {
    "application/vnd.databricks.v1+cell": {
     "cellMetadata": {},
     "inputWidgets": {},
     "nuid": "c801583c-47f5-44c8-bd37-90488f24aa14",
     "showTitle": false,
     "tableResultSettingsMap": {},
     "title": ""
    }
   },
   "outputs": [],
   "source": [
    "#merge_schema\n",
    "    new_df.write.format(\"delta\").mode(\"append\").option(\"mergeSchema\", \"true\").saveAsTable(\"my_delta_table\")"
   ]
  }
 ],
 "metadata": {
  "application/vnd.databricks.v1+notebook": {
   "computePreferences": null,
   "dashboards": [],
   "environmentMetadata": {
    "base_environment": "",
    "environment_version": "3"
   },
   "inputWidgetPreferences": null,
   "language": "python",
   "notebookMetadata": {
    "pythonIndentUnit": 4
   },
   "notebookName": "1.2025-09-30",
   "widgets": {}
  },
  "language_info": {
   "name": "python"
  }
 },
 "nbformat": 4,
 "nbformat_minor": 0
}
