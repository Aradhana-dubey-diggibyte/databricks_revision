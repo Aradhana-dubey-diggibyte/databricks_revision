{
 "cells": [
  {
   "cell_type": "code",
   "execution_count": 0,
   "metadata": {
    "application/vnd.databricks.v1+cell": {
     "cellMetadata": {
      "byteLimit": 2048000,
      "rowLimit": 10000
     },
     "inputWidgets": {},
     "nuid": "c8c5fb58-61f8-4652-9f40-6db74b727252",
     "showTitle": false,
     "tableResultSettingsMap": {},
     "title": ""
    }
   },
   "outputs": [],
   "source": [
    "from pyspark.sql import Row"
   ]
  },
  {
   "cell_type": "code",
   "execution_count": 0,
   "metadata": {
    "application/vnd.databricks.v1+cell": {
     "cellMetadata": {
      "byteLimit": 2048000,
      "rowLimit": 10000
     },
     "inputWidgets": {},
     "nuid": "d9412ea6-fb07-44e8-b256-320d1fc8137e",
     "showTitle": false,
     "tableResultSettingsMap": {},
     "title": ""
    }
   },
   "outputs": [],
   "source": [
    "data = [\n",
    "    Row(name=\"Aarav\", age=25, city=\"New York\", occupation=\"Engineer\"),\n",
    "    Row(name=\"Vivaan\", age=30, city=\"Los Angeles\", occupation=\"Doctor\"),\n",
    "    Row(name=\"Aditya\", age=22, city=\"Chicago\", occupation=\"Artist\"),\n",
    "    Row(name=\"Vihaan\", age=28, city=\"Houston\", occupation=\"Lawyer\"),\n",
    "    Row(name=\"Arjun\", age=35, city=\"Phoenix\", occupation=\"Teacher\"),\n",
    "    Row(name=\"Sai\", age=27, city=\"Philadelphia\", occupation=\"Nurse\"),\n",
    "    Row(name=\"Reyansh\", age=24, city=\"San Antonio\", occupation=\"Chef\"),\n",
    "    Row(name=\"Ayaan\", age=29, city=\"San Diego\", occupation=\"Architect\"),\n",
    "    Row(name=\"Krishna\", age=26, city=\"Dallas\", occupation=\"Scientist\"),\n",
    "    Row(name=\"Ishaan\", age=23, city=\"San Jose\", occupation=\"Designer\")\n",
    "]\n",
    "\n",
    "df = spark.createDataFrame(data)\n",
    "display(df)"
   ]
  },
  {
   "cell_type": "code",
   "execution_count": 0,
   "metadata": {
    "application/vnd.databricks.v1+cell": {
     "cellMetadata": {
      "byteLimit": 2048000,
      "rowLimit": 10000
     },
     "inputWidgets": {},
     "nuid": "e8d83343-1b49-49f4-9839-d5f2d6013ac2",
     "showTitle": false,
     "tableResultSettingsMap": {},
     "title": ""
    }
   },
   "outputs": [],
   "source": [
    "from pyspark.sql import functions as sf\n",
    "\n",
    "df1 = df.withColumn(\"current_date\", sf.current_date())\n",
    "display(df1)"
   ]
  },
  {
   "cell_type": "code",
   "execution_count": 0,
   "metadata": {
    "application/vnd.databricks.v1+cell": {
     "cellMetadata": {
      "byteLimit": 2048000,
      "rowLimit": 10000
     },
     "inputWidgets": {},
     "nuid": "810a1bbd-af7e-4056-b5a0-282fef5b4b24",
     "showTitle": false,
     "tableResultSettingsMap": {},
     "title": ""
    }
   },
   "outputs": [],
   "source": [
    "df2 = df.withColumn(\"current_timestamp\", sf.current_timestamp())\n",
    "display(df2)"
   ]
  },
  {
   "cell_type": "code",
   "execution_count": 0,
   "metadata": {
    "application/vnd.databricks.v1+cell": {
     "cellMetadata": {
      "byteLimit": 2048000,
      "rowLimit": 10000
     },
     "inputWidgets": {},
     "nuid": "b8518cad-e2ce-4c7c-aab6-3d10a0b285ca",
     "showTitle": false,
     "tableResultSettingsMap": {},
     "title": ""
    }
   },
   "outputs": [],
   "source": [
    "df3 = df_with_date.withColumn(\"date_plus_months\", sf.add_months(\"current_date\", 3))\n",
    "display(df3)"
   ]
  },
  {
   "cell_type": "code",
   "execution_count": 0,
   "metadata": {
    "application/vnd.databricks.v1+cell": {
     "cellMetadata": {
      "byteLimit": 2048000,
      "rowLimit": 10000
     },
     "inputWidgets": {},
     "nuid": "36b11ece-6c52-43c8-8185-4a59781a007b",
     "showTitle": false,
     "tableResultSettingsMap": {},
     "title": ""
    }
   },
   "outputs": [],
   "source": [
    "df4 = df1.withColumn(\"day_of_month\", sf.dayofmonth(\"current_date\"))\n",
    "display(df4)"
   ]
  }
 ],
 "metadata": {
  "application/vnd.databricks.v1+notebook": {
   "computePreferences": null,
   "dashboards": [],
   "environmentMetadata": {
    "base_environment": "",
    "environment_version": "3"
   },
   "inputWidgetPreferences": null,
   "language": "python",
   "notebookMetadata": {
    "pythonIndentUnit": 4
   },
   "notebookName": "pyspark_date_and_time",
   "widgets": {}
  },
  "language_info": {
   "name": "python"
  }
 },
 "nbformat": 4,
 "nbformat_minor": 0
}
